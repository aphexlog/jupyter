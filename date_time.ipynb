{
 "cells": [
  {
   "cell_type": "code",
   "execution_count": 13,
   "metadata": {},
   "outputs": [
    {
     "name": "stdout",
     "output_type": "stream",
     "text": [
      "local time: 2024-01-06 09:39:47.616931-06:00\n",
      "africa time: 2024-01-06 17:39:47.616931+02:00\n",
      "africa time 24 hour format: 2024-01-06 17:39:47.616931+02:00\n"
     ]
    }
   ],
   "source": [
    "import pendulum\n",
    "\n",
    "loc = pendulum.now()\n",
    "\n",
    "africa = pendulum.timezone('Africa/Johannesburg')\n",
    "africa_24 = pendulum.timezone('Africa/Johannesburg')\n",
    "\n",
    "print(f\"local time: {loc}\")\n",
    "print(f\"africa time: {loc.in_timezone(africa)}\")\n",
    "print(f\"africa time 24 hour format: {loc.in_timezone(africa_24)}\")\n"
   ]
  },
  {
   "cell_type": "code",
   "execution_count": 38,
   "metadata": {},
   "outputs": [
    {
     "name": "stdout",
     "output_type": "stream",
     "text": [
      "Saturday 06 January 2024 18:35:19 PM\n",
      "True\n",
      "10:35 AM\n",
      "Saturday 06 January 2024 10:35:19 AM\n",
      "Saturday, January 6, 2024 10:35 AM\n",
      "False\n",
      "in 1 year\n",
      "in 1 hour\n"
     ]
    }
   ],
   "source": [
    "import pendulum\n",
    "\n",
    "    \n",
    "date = pendulum.now()\n",
    "\n",
    "loc_africa = (date.in_timezone('Africa/Johannesburg')).format('dddd DD MMMM YYYY HH:mm:ss A')\n",
    "print(loc_africa)\n",
    "\n",
    "\n",
    "time = date.format(\"LT\")\n",
    "local_time = date.format(\"LT\", locale=\"en\")\n",
    "\n",
    "if time == local_time:\n",
    "    print(\"True\")\n",
    "    print(local_time)\n",
    "    \n",
    "\n",
    "date_time = date.format(\"dddd DD MMMM YYYY HH:mm:ss A\")\n",
    "\n",
    "print(date_time)\n",
    "\n",
    "date_time2 = date.format(\"LLLL\", locale=\"en\")\n",
    "print(date_time2)\n",
    "\n",
    "is_true =  date_time == date_time2\n",
    "\n",
    "print(is_true)\n",
    "\n",
    "print(date.add(years=1).diff_for_humans())\n",
    "print(date.add(hours=5).diff_for_humans(locale=\"en\"))"
   ]
  }
 ],
 "metadata": {
  "kernelspec": {
   "display_name": ".venv",
   "language": "python",
   "name": "python3"
  },
  "language_info": {
   "codemirror_mode": {
    "name": "ipython",
    "version": 3
   },
   "file_extension": ".py",
   "mimetype": "text/x-python",
   "name": "python",
   "nbconvert_exporter": "python",
   "pygments_lexer": "ipython3",
   "version": "3.12.0"
  }
 },
 "nbformat": 4,
 "nbformat_minor": 2
}
